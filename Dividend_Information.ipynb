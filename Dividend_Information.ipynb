{
 "cells": [
  {
   "cell_type": "markdown",
   "metadata": {},
   "source": [
    "# 获得分红信息"
   ]
  },
  {
   "cell_type": "markdown",
   "metadata": {},
   "source": [
    "## 步骤1：获得分红信息"
   ]
  },
  {
   "cell_type": "code",
   "execution_count": 46,
   "metadata": {},
   "outputs": [],
   "source": [
    "import datetime\n",
    "import pandas as pd\n",
    "from jqdata import *"
   ]
  },
  {
   "cell_type": "code",
   "execution_count": 47,
   "metadata": {},
   "outputs": [],
   "source": [
    "# 确定是哪一个年之前的数据\n",
    "query_yr = '2024'\n",
    "\n",
    "# 一直查询到什么时候\n",
    "query_yr_bgn = '2020'\n",
    "\n",
    "# 指数构成的查询时间\n",
    "end_date = '2024-3-24'\n",
    "\n",
    "# 这个是中证1000的指数\n",
    "# bench_index = '000852.XSHG'\n",
    "bench_index = '000300.XSHG'\n",
    "\n",
    "stock_pool = get_index_stocks(bench_index, end_date)"
   ]
  },
  {
   "cell_type": "code",
   "execution_count": 48,
   "metadata": {},
   "outputs": [
    {
     "name": "stderr",
     "output_type": "stream",
     "text": [
      "/opt/conda/lib/python3.6/site-packages/sqlalchemy/engine/default.py:509: Warning: (1292, \"Truncated incorrect DOUBLE value: 'NaN'\")\n",
      "  cursor.execute(statement, parameters)\n"
     ]
    }
   ],
   "source": [
    "# finance是jqdata里面的库，包含分红等信息\n",
    "f = finance.STK_XR_XD\n",
    "\n",
    "q =query(\n",
    "    f.code,f.company_name,\n",
    "    f.report_date,\n",
    "    f.bonus_amount_rmb\n",
    ").filter(\n",
    "    finance.STK_XR_XD.code.in_(stock_pool),\n",
    "    f.bonus_amount_rmb!='NaN',\n",
    "    f.report_date<str(query_yr)+'-01-01'\n",
    ").order_by(\n",
    "    finance.STK_XR_XD.report_date.desc()\n",
    ")\n",
    "\n",
    "df = finance.run_query(q)"
   ]
  },
  {
   "cell_type": "code",
   "execution_count": 49,
   "metadata": {},
   "outputs": [],
   "source": [
    "# 设置日期作为指数，后面的resample需要针对日期进行操作\n",
    "df.set_index(pd.to_datetime(df.report_date),inplace=True)\n",
    "\n",
    "# 以日期为指数进行重抽样\n",
    "# 因为一年内可能多次分红\n",
    "df = df.groupby('code').resample('Y').sum()\n",
    "\n",
    "# 重新设置\n",
    "df=df.reset_index()\n",
    "\n",
    "# 设置report year的时间序列\n",
    "df['report_year']=df['report_date'].dt.year\n",
    "\n",
    "# 挑选近几年的情况\n",
    "df = df[df['report_year'] >= int(query_yr_bgn)]\n"
   ]
  },
  {
   "cell_type": "code",
   "execution_count": 50,
   "metadata": {},
   "outputs": [],
   "source": [
    "#用来存储最终市值数据的pandas数组\n",
    "market_pd = pd.DataFrame()\n",
    "\n",
    "\n",
    "# 查询每年的市值，按照日期的概念\n",
    "for date_i in set(df['report_year']):\n",
    "\n",
    "    query_date = get_trade_days(start_date=None, end_date=str(int(date_i)+1)+'-01-01', count=2)[0]\n",
    "\n",
    "    sec_list = list(df[df['report_year'] == date_i]['code'])\n",
    "    \n",
    "    \n",
    "    # 查询指定日期、指定\n",
    "    q = query(\n",
    "            valuation.code,\n",
    "            valuation.market_cap,\n",
    "        ).filter(\n",
    "            balance.code.in_(sec_list)\n",
    "        )\n",
    "    \n",
    "    query_pd = get_fundamentals(q,query_date)\n",
    "    \n",
    "    query_pd['query_date'] = np.array([date_i for _ in range(query_pd.shape[0])])\n",
    "    \n",
    "    market_pd = pd.concat([market_pd,query_pd],axis = 0)\n",
    "    \n",
    "# 组合数据\n",
    "df = pd.merge(df,market_pd,how='left',left_on = ['code','report_year'],right_on = ['code','query_date'])\n",
    "\n",
    "# 分红比例\n",
    "df['div_ratio'] = df['bonus_amount_rmb']/df['market_cap']/10000\n",
    "\n",
    "# 删除多余的列\n",
    "df.drop('query_date', axis = 1, inplace = True)"
   ]
  },
  {
   "cell_type": "code",
   "execution_count": 51,
   "metadata": {},
   "outputs": [],
   "source": [
    "# 调整格式\n",
    "div_ret = df.pivot_table(index = ['code'], values = ['div_ratio'],columns = ['report_year'])\n",
    "div_ret.fillna(0,inplace = True)\n",
    "\n",
    "# 注意这里是固定3年，如果是其他年数需要调整\n",
    "div_ret['avg_div'] = (div_ret.iloc[:,0] + div_ret.iloc[:,1] + div_ret.iloc[:,2])/3\n",
    "\n",
    "# 筛选股票\n",
    "# 是否大于0.05\n",
    "div_ret = div_ret[div_ret['avg_div'] > 0.03]"
   ]
  },
  {
   "cell_type": "code",
   "execution_count": 52,
   "metadata": {},
   "outputs": [
    {
     "data": {
      "text/html": [
       "<div>\n",
       "<style scoped>\n",
       "    .dataframe tbody tr th:only-of-type {\n",
       "        vertical-align: middle;\n",
       "    }\n",
       "\n",
       "    .dataframe tbody tr th {\n",
       "        vertical-align: top;\n",
       "    }\n",
       "\n",
       "    .dataframe thead tr th {\n",
       "        text-align: left;\n",
       "    }\n",
       "\n",
       "    .dataframe thead tr:last-of-type th {\n",
       "        text-align: right;\n",
       "    }\n",
       "</style>\n",
       "<table border=\"1\" class=\"dataframe\">\n",
       "  <thead>\n",
       "    <tr>\n",
       "      <th></th>\n",
       "      <th colspan=\"4\" halign=\"left\">div_ratio</th>\n",
       "      <th>avg_div</th>\n",
       "    </tr>\n",
       "    <tr>\n",
       "      <th>report_year</th>\n",
       "      <th>2020</th>\n",
       "      <th>2021</th>\n",
       "      <th>2022</th>\n",
       "      <th>2023</th>\n",
       "      <th></th>\n",
       "    </tr>\n",
       "    <tr>\n",
       "      <th>code</th>\n",
       "      <th></th>\n",
       "      <th></th>\n",
       "      <th></th>\n",
       "      <th></th>\n",
       "      <th></th>\n",
       "    </tr>\n",
       "  </thead>\n",
       "  <tbody>\n",
       "    <tr>\n",
       "      <th>000002.XSHE</th>\n",
       "      <td>0.036866</td>\n",
       "      <td>0.050732</td>\n",
       "      <td>0.031072</td>\n",
       "      <td>0.000000</td>\n",
       "      <td>0.039557</td>\n",
       "    </tr>\n",
       "    <tr>\n",
       "      <th>000157.XSHE</th>\n",
       "      <td>0.055636</td>\n",
       "      <td>0.044818</td>\n",
       "      <td>0.059041</td>\n",
       "      <td>0.000000</td>\n",
       "      <td>0.053165</td>\n",
       "    </tr>\n",
       "    <tr>\n",
       "      <th>000408.XSHE</th>\n",
       "      <td>0.000000</td>\n",
       "      <td>0.000000</td>\n",
       "      <td>0.109271</td>\n",
       "      <td>0.031434</td>\n",
       "      <td>0.036424</td>\n",
       "    </tr>\n",
       "    <tr>\n",
       "      <th>000425.XSHE</th>\n",
       "      <td>0.018657</td>\n",
       "      <td>0.000000</td>\n",
       "      <td>0.075826</td>\n",
       "      <td>0.000000</td>\n",
       "      <td>0.031494</td>\n",
       "    </tr>\n",
       "    <tr>\n",
       "      <th>000651.XSHE</th>\n",
       "      <td>0.061517</td>\n",
       "      <td>0.076252</td>\n",
       "      <td>0.061995</td>\n",
       "      <td>0.000000</td>\n",
       "      <td>0.066588</td>\n",
       "    </tr>\n",
       "  </tbody>\n",
       "</table>\n",
       "</div>"
      ],
      "text/plain": [
       "            div_ratio                                 avg_div\n",
       "report_year      2020      2021      2022      2023          \n",
       "code                                                         \n",
       "000002.XSHE  0.036866  0.050732  0.031072  0.000000  0.039557\n",
       "000157.XSHE  0.055636  0.044818  0.059041  0.000000  0.053165\n",
       "000408.XSHE  0.000000  0.000000  0.109271  0.031434  0.036424\n",
       "000425.XSHE  0.018657  0.000000  0.075826  0.000000  0.031494\n",
       "000651.XSHE  0.061517  0.076252  0.061995  0.000000  0.066588"
      ]
     },
     "execution_count": 52,
     "metadata": {},
     "output_type": "execute_result"
    }
   ],
   "source": [
    "div_ret.head()"
   ]
  },
  {
   "cell_type": "code",
   "execution_count": 53,
   "metadata": {},
   "outputs": [],
   "source": [
    "# 名字信息\n",
    "name_pd =pd.DataFrame(get_all_securities()['display_name'])\n",
    "\n",
    "\n",
    "# 提取行业的编码信息\n",
    "Sec_list = [[d[0],d[1]['industry_code'],d[1]['industry_name']] for d in pd.DataFrame.from_dict(get_industry(list(set(list(div_ret.index))), date=end_date), orient='index')['sw_l1'].items()]\n",
    "\n",
    "# 重新生成新的pandas数据，准备进行合并\n",
    "industry_pd = pd.DataFrame(data = Sec_list,columns = ['code','industry','industry_name'])\n",
    "industry_pd = industry_pd.set_index(['code'])"
   ]
  },
  {
   "cell_type": "code",
   "execution_count": 54,
   "metadata": {},
   "outputs": [],
   "source": [
    "# 增加名字\n",
    "div_ret = pd.concat([div_ret,name_pd], axis =1,sort=False,join = 'inner')\n",
    "\n",
    "# 增加行业\n",
    "div_ret = pd.concat([div_ret,industry_pd], axis =1,sort=False,join = 'inner')"
   ]
  },
  {
   "cell_type": "code",
   "execution_count": 56,
   "metadata": {},
   "outputs": [
    {
     "data": {
      "text/html": [
       "<div>\n",
       "<style scoped>\n",
       "    .dataframe tbody tr th:only-of-type {\n",
       "        vertical-align: middle;\n",
       "    }\n",
       "\n",
       "    .dataframe tbody tr th {\n",
       "        vertical-align: top;\n",
       "    }\n",
       "\n",
       "    .dataframe thead th {\n",
       "        text-align: right;\n",
       "    }\n",
       "</style>\n",
       "<table border=\"1\" class=\"dataframe\">\n",
       "  <thead>\n",
       "    <tr style=\"text-align: right;\">\n",
       "      <th></th>\n",
       "      <th>(div_ratio, 2020)</th>\n",
       "      <th>(div_ratio, 2021)</th>\n",
       "      <th>(div_ratio, 2022)</th>\n",
       "      <th>(div_ratio, 2023)</th>\n",
       "      <th>(avg_div, )</th>\n",
       "      <th>display_name</th>\n",
       "      <th>industry</th>\n",
       "      <th>industry_name</th>\n",
       "    </tr>\n",
       "    <tr>\n",
       "      <th>code</th>\n",
       "      <th></th>\n",
       "      <th></th>\n",
       "      <th></th>\n",
       "      <th></th>\n",
       "      <th></th>\n",
       "      <th></th>\n",
       "      <th></th>\n",
       "      <th></th>\n",
       "    </tr>\n",
       "  </thead>\n",
       "  <tbody>\n",
       "    <tr>\n",
       "      <th>000002.XSHE</th>\n",
       "      <td>0.036866</td>\n",
       "      <td>0.050732</td>\n",
       "      <td>0.031072</td>\n",
       "      <td>0.000000</td>\n",
       "      <td>0.039557</td>\n",
       "      <td>万科A</td>\n",
       "      <td>801180</td>\n",
       "      <td>房地产I</td>\n",
       "    </tr>\n",
       "    <tr>\n",
       "      <th>000157.XSHE</th>\n",
       "      <td>0.055636</td>\n",
       "      <td>0.044818</td>\n",
       "      <td>0.059041</td>\n",
       "      <td>0.000000</td>\n",
       "      <td>0.053165</td>\n",
       "      <td>中联重科</td>\n",
       "      <td>801890</td>\n",
       "      <td>机械设备I</td>\n",
       "    </tr>\n",
       "    <tr>\n",
       "      <th>000408.XSHE</th>\n",
       "      <td>0.000000</td>\n",
       "      <td>0.000000</td>\n",
       "      <td>0.109271</td>\n",
       "      <td>0.031434</td>\n",
       "      <td>0.036424</td>\n",
       "      <td>藏格矿业</td>\n",
       "      <td>801050</td>\n",
       "      <td>有色金属I</td>\n",
       "    </tr>\n",
       "    <tr>\n",
       "      <th>000425.XSHE</th>\n",
       "      <td>0.018657</td>\n",
       "      <td>0.000000</td>\n",
       "      <td>0.075826</td>\n",
       "      <td>0.000000</td>\n",
       "      <td>0.031494</td>\n",
       "      <td>徐工机械</td>\n",
       "      <td>801890</td>\n",
       "      <td>机械设备I</td>\n",
       "    </tr>\n",
       "    <tr>\n",
       "      <th>000651.XSHE</th>\n",
       "      <td>0.061517</td>\n",
       "      <td>0.076252</td>\n",
       "      <td>0.061995</td>\n",
       "      <td>0.000000</td>\n",
       "      <td>0.066588</td>\n",
       "      <td>格力电器</td>\n",
       "      <td>801110</td>\n",
       "      <td>家用电器I</td>\n",
       "    </tr>\n",
       "  </tbody>\n",
       "</table>\n",
       "</div>"
      ],
      "text/plain": [
       "             (div_ratio, 2020)      ...        industry_name\n",
       "code                                ...                     \n",
       "000002.XSHE           0.036866      ...                 房地产I\n",
       "000157.XSHE           0.055636      ...                机械设备I\n",
       "000408.XSHE           0.000000      ...                有色金属I\n",
       "000425.XSHE           0.018657      ...                机械设备I\n",
       "000651.XSHE           0.061517      ...                家用电器I\n",
       "\n",
       "[5 rows x 8 columns]"
      ]
     },
     "execution_count": 56,
     "metadata": {},
     "output_type": "execute_result"
    }
   ],
   "source": [
    "div_ret.head()"
   ]
  },
  {
   "cell_type": "markdown",
   "metadata": {},
   "source": [
    "## 步骤2：输出到CSV文件\n"
   ]
  },
  {
   "cell_type": "code",
   "execution_count": 57,
   "metadata": {},
   "outputs": [],
   "source": [
    "div_ret.to_csv(\"dividend_information.csv\")"
   ]
  },
  {
   "cell_type": "code",
   "execution_count": null,
   "metadata": {},
   "outputs": [],
   "source": []
  }
 ],
 "metadata": {
  "kernelspec": {
   "display_name": "Python 3",
   "language": "python",
   "name": "python3"
  },
  "language_info": {
   "codemirror_mode": {
    "name": "ipython",
    "version": 3
   },
   "file_extension": ".py",
   "mimetype": "text/x-python",
   "name": "python",
   "nbconvert_exporter": "python",
   "pygments_lexer": "ipython3",
   "version": "3.6.7"
  },
  "toc": {
   "base_numbering": 1,
   "nav_menu": {},
   "number_sections": false,
   "sideBar": true,
   "skip_h1_title": false,
   "title_cell": "MarkDown菜单",
   "title_sidebar": "Contents",
   "toc_cell": false,
   "toc_position": {},
   "toc_section_display": true,
   "toc_window_display": false
  }
 },
 "nbformat": 4,
 "nbformat_minor": 2
}
