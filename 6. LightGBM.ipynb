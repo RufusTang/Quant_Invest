{
 "cells": [
  {
   "cell_type": "markdown",
   "metadata": {},
   "source": [
    "# LightGBM案例"
   ]
  },
  {
   "cell_type": "markdown",
   "metadata": {},
   "source": [
    "## 思路\n",
    "1. 提取有用的历史数据，不同周期\n",
    "2. 使用未来一周或者一定时间的收益率情况来进行训练\n",
    "3. 预测未来的市场走势，尝试进行非对称的训练，如上涨2%视为一类，达不到上涨2%视为另一类\n",
    "\n",
    "注意：\n",
    "如果所有的数据都来自于价量指标，是否会存在Correlation和过拟合的风险\n"
   ]
  },
  {
   "cell_type": "code",
   "execution_count": 1,
   "metadata": {},
   "outputs": [],
   "source": [
    "# import \n",
    "import numpy as np # linear algebra\n",
    "import pandas as pd # data processing, CSV file I/O (e.g. pd.read_csv)\n",
    "import matplotlib.pyplot as plt # data visualization\n",
    "import seaborn as sns # statistical data visualization"
   ]
  },
  {
   "cell_type": "code",
   "execution_count": 2,
   "metadata": {},
   "outputs": [],
   "source": [
    "# ignore warnings\n",
    "import warnings\n",
    "warnings.filterwarnings(\"ignore\")"
   ]
  },
  {
   "cell_type": "code",
   "execution_count": 3,
   "metadata": {},
   "outputs": [],
   "source": [
    "import matplotlib.pyplot as plt\n",
    "\n",
    "# plt的默认设置\n",
    "plt.rcParams['figure.figsize'] = [18.0, 10.0]  # 宽度, 高度\n",
    "\n",
    "plt.rcParams['axes.spines.right']= False\n",
    "plt.rcParams['axes.spines.top']= False\n",
    "plt.rcParams['axes.spines.left']= False\n",
    "plt.rcParams['axes.spines.bottom']=False\n",
    "\n",
    "plt.rcParams['axes.labelsize'] = 14  # 设置坐标轴标签字体大小\n",
    "plt.rcParams['axes.titlesize'] = 16  # 设置标题字体大小\n",
    "plt.rcParams['xtick.labelsize'] = 12  # 设置x轴刻度标签字体大小\n",
    "plt.rcParams['ytick.labelsize'] = 12  # 设置y轴刻度标签字体大小\n",
    "plt.rcParams['grid.alpha'] = 1  # 设置网格透明度\n",
    "\n",
    "plt.rcParams['axes.grid'] = True # 设置网格线\n",
    "\n",
    "plt.rcParams['legend.fontsize'] = 16 \n",
    "\n",
    "plt.rcParams['font.family'] = \"monospace\" # 设置图片字体"
   ]
  },
  {
   "cell_type": "markdown",
   "metadata": {},
   "source": [
    "## 1. 准备训练数据"
   ]
  },
  {
   "cell_type": "code",
   "execution_count": 4,
   "metadata": {},
   "outputs": [],
   "source": [
    "# 选择沪深300ETF进行跟踪\n",
    "candidate_ETF = \"159919.XSHE\"\n",
    "\n",
    "# 确定整体时间长度，默认设置为过去1000天\n",
    "ncount = 1500\n",
    "\n",
    "# 确定end_date\n",
    "end_date='2025-01-27'\n"
   ]
  },
  {
   "cell_type": "code",
   "execution_count": 5,
   "metadata": {},
   "outputs": [],
   "source": [
    "# 生成价格pandas数组\n",
    "price_pd = pd.DataFrame()\n",
    "\n",
    "price_pd = get_price(candidate_ETF, count = ncount, end_date=end_date, frequency='daily', fields=['close','volume'])\n",
    "\n",
    "price_pd.columns = ['price', 'volume']"
   ]
  },
  {
   "cell_type": "code",
   "execution_count": 6,
   "metadata": {},
   "outputs": [
    {
     "data": {
      "text/html": [
       "<div>\n",
       "<style scoped>\n",
       "    .dataframe tbody tr th:only-of-type {\n",
       "        vertical-align: middle;\n",
       "    }\n",
       "\n",
       "    .dataframe tbody tr th {\n",
       "        vertical-align: top;\n",
       "    }\n",
       "\n",
       "    .dataframe thead th {\n",
       "        text-align: right;\n",
       "    }\n",
       "</style>\n",
       "<table border=\"1\" class=\"dataframe\">\n",
       "  <thead>\n",
       "    <tr style=\"text-align: right;\">\n",
       "      <th></th>\n",
       "      <th>price</th>\n",
       "      <th>volume</th>\n",
       "    </tr>\n",
       "  </thead>\n",
       "  <tbody>\n",
       "    <tr>\n",
       "      <th>2018-11-23</th>\n",
       "      <td>2.948</td>\n",
       "      <td>37777493.0</td>\n",
       "    </tr>\n",
       "    <tr>\n",
       "      <th>2018-11-26</th>\n",
       "      <td>2.938</td>\n",
       "      <td>44255842.0</td>\n",
       "    </tr>\n",
       "    <tr>\n",
       "      <th>2018-11-27</th>\n",
       "      <td>2.941</td>\n",
       "      <td>9422309.0</td>\n",
       "    </tr>\n",
       "    <tr>\n",
       "      <th>2018-11-28</th>\n",
       "      <td>2.980</td>\n",
       "      <td>19097891.0</td>\n",
       "    </tr>\n",
       "    <tr>\n",
       "      <th>2018-11-29</th>\n",
       "      <td>2.952</td>\n",
       "      <td>14413113.0</td>\n",
       "    </tr>\n",
       "  </tbody>\n",
       "</table>\n",
       "</div>"
      ],
      "text/plain": [
       "            price      volume\n",
       "2018-11-23  2.948  37777493.0\n",
       "2018-11-26  2.938  44255842.0\n",
       "2018-11-27  2.941   9422309.0\n",
       "2018-11-28  2.980  19097891.0\n",
       "2018-11-29  2.952  14413113.0"
      ]
     },
     "execution_count": 6,
     "metadata": {},
     "output_type": "execute_result"
    }
   ],
   "source": [
    "price_pd.head()"
   ]
  },
  {
   "cell_type": "markdown",
   "metadata": {},
   "source": [
    "\n",
    "### 对提取的数据进行处理\n",
    "\n",
    "原理：\n",
    "1. 1日收益率、5日收益率、30日收益率进行\n",
    "2. 1日成交量增长率、5日成交量增长率、30日成交量增长率\n",
    "3. 过去20日的收益波动水平\n",
    "4. 通过观测数据推测market state\n",
    "\n",
    "波动率的公式：\n",
    "$\\sigma = \\sqrt{\\frac{250}{n-1} \\sum_{i=1}^{n} (r_{p_i} - \\bar{r}_p)^2}$\n",
    "\n",
    "说明：n选择为20"
   ]
  },
  {
   "cell_type": "code",
   "execution_count": 7,
   "metadata": {},
   "outputs": [],
   "source": [
    "# 对数据进行处理\n",
    "# 生成收益率数据\n",
    "price_pd['1d_yield'] = price_pd['price']/price_pd['price'].shift(1)\n",
    "price_pd['5d_yield'] = price_pd['price']/price_pd['price'].shift(5)\n",
    "price_pd['30d_yield'] = price_pd['price']/price_pd['price'].shift(30)\n",
    "\n",
    "# 生成成交量数据\n",
    "price_pd['1d_volume_change'] = price_pd['volume']/price_pd['volume'].shift(1)\n",
    "price_pd['5d_volume_change'] = price_pd['volume']/price_pd['volume'].shift(5)\n",
    "price_pd['30d__volume_change'] = price_pd['volume']/price_pd['volume'].shift(30)\n",
    "\n",
    "\n",
    "# 生成波动率数据\n",
    "# 生成rolling average数据\n",
    "rolling_window = 20\n",
    "\n",
    "price_pd['std'] = price_pd['price'].rolling(window=rolling_window).std()"
   ]
  },
  {
   "cell_type": "code",
   "execution_count": 8,
   "metadata": {},
   "outputs": [
    {
     "data": {
      "text/html": [
       "<div>\n",
       "<style scoped>\n",
       "    .dataframe tbody tr th:only-of-type {\n",
       "        vertical-align: middle;\n",
       "    }\n",
       "\n",
       "    .dataframe tbody tr th {\n",
       "        vertical-align: top;\n",
       "    }\n",
       "\n",
       "    .dataframe thead th {\n",
       "        text-align: right;\n",
       "    }\n",
       "</style>\n",
       "<table border=\"1\" class=\"dataframe\">\n",
       "  <thead>\n",
       "    <tr style=\"text-align: right;\">\n",
       "      <th></th>\n",
       "      <th>price</th>\n",
       "      <th>volume</th>\n",
       "      <th>1d_yield</th>\n",
       "      <th>5d_yield</th>\n",
       "      <th>30d_yield</th>\n",
       "      <th>1d_volume_change</th>\n",
       "      <th>5d_volume_change</th>\n",
       "      <th>30d__volume_change</th>\n",
       "      <th>std</th>\n",
       "    </tr>\n",
       "  </thead>\n",
       "  <tbody>\n",
       "    <tr>\n",
       "      <th>2018-11-23</th>\n",
       "      <td>2.948</td>\n",
       "      <td>37777493.0</td>\n",
       "      <td>NaN</td>\n",
       "      <td>NaN</td>\n",
       "      <td>NaN</td>\n",
       "      <td>NaN</td>\n",
       "      <td>NaN</td>\n",
       "      <td>NaN</td>\n",
       "      <td>NaN</td>\n",
       "    </tr>\n",
       "    <tr>\n",
       "      <th>2018-11-26</th>\n",
       "      <td>2.938</td>\n",
       "      <td>44255842.0</td>\n",
       "      <td>0.996608</td>\n",
       "      <td>NaN</td>\n",
       "      <td>NaN</td>\n",
       "      <td>1.171487</td>\n",
       "      <td>NaN</td>\n",
       "      <td>NaN</td>\n",
       "      <td>NaN</td>\n",
       "    </tr>\n",
       "    <tr>\n",
       "      <th>2018-11-27</th>\n",
       "      <td>2.941</td>\n",
       "      <td>9422309.0</td>\n",
       "      <td>1.001021</td>\n",
       "      <td>NaN</td>\n",
       "      <td>NaN</td>\n",
       "      <td>0.212905</td>\n",
       "      <td>NaN</td>\n",
       "      <td>NaN</td>\n",
       "      <td>NaN</td>\n",
       "    </tr>\n",
       "    <tr>\n",
       "      <th>2018-11-28</th>\n",
       "      <td>2.980</td>\n",
       "      <td>19097891.0</td>\n",
       "      <td>1.013261</td>\n",
       "      <td>NaN</td>\n",
       "      <td>NaN</td>\n",
       "      <td>2.026880</td>\n",
       "      <td>NaN</td>\n",
       "      <td>NaN</td>\n",
       "      <td>NaN</td>\n",
       "    </tr>\n",
       "    <tr>\n",
       "      <th>2018-11-29</th>\n",
       "      <td>2.952</td>\n",
       "      <td>14413113.0</td>\n",
       "      <td>0.990604</td>\n",
       "      <td>NaN</td>\n",
       "      <td>NaN</td>\n",
       "      <td>0.754697</td>\n",
       "      <td>NaN</td>\n",
       "      <td>NaN</td>\n",
       "      <td>NaN</td>\n",
       "    </tr>\n",
       "  </tbody>\n",
       "</table>\n",
       "</div>"
      ],
      "text/plain": [
       "            price      volume ...   30d__volume_change  std\n",
       "2018-11-23  2.948  37777493.0 ...                  NaN  NaN\n",
       "2018-11-26  2.938  44255842.0 ...                  NaN  NaN\n",
       "2018-11-27  2.941   9422309.0 ...                  NaN  NaN\n",
       "2018-11-28  2.980  19097891.0 ...                  NaN  NaN\n",
       "2018-11-29  2.952  14413113.0 ...                  NaN  NaN\n",
       "\n",
       "[5 rows x 9 columns]"
      ]
     },
     "execution_count": 8,
     "metadata": {},
     "output_type": "execute_result"
    }
   ],
   "source": [
    "price_pd.head()"
   ]
  },
  {
   "cell_type": "markdown",
   "metadata": {},
   "source": [
    "### 增加因子数据\n",
    "\n",
    "\n",
    "数据来自聚宽因子库：https://www.joinquant.com/help/api/help#name:factor_values\n",
    "\n",
    "因子如下：\n",
    "1. leverage因子：0.38•market_leverage + 0.35•debt_to_assets + 0.27•book_leverage\n",
    "2. liquidity因子：0.35•share_turnover_monthly + 0.35•average_share_turnover_quarterly + 0.3•average_share_turnover_annual\n",
    "3. book_to_price_ratio因子：最新一季财报的账面价值与当前市值的比值（pb_ratio的倒数）。其中小于0的值设置为nan\n",
    "4. operating_revenue_growth_rate：收入增长率\n",
    "5. net_asset_growth_rate：净资产增长率\n",
    "5. PEG\n"
   ]
  },
  {
   "cell_type": "code",
   "execution_count": 9,
   "metadata": {},
   "outputs": [],
   "source": [
    "# 导入函数库\n",
    "from jqfactor import get_factor_values\n",
    "\n",
    "\n",
    "factor_list = ['leverage','liquidity','book_to_price_ratio',\n",
    "               'operating_revenue_growth_rate',\n",
    "               'net_asset_growth_rate',\n",
    "               'PEG']\n",
    "\n",
    "# 获取因子\n",
    "# 因为数据的原因，所以获取上证指数“000001”作为参数\n",
    "factor_data = get_factor_values(securities=['000001.XSHE'], factors=factor_list, \n",
    "                                count = ncount, end_date=end_date )\n"
   ]
  },
  {
   "cell_type": "code",
   "execution_count": 10,
   "metadata": {},
   "outputs": [
    {
     "name": "stdout",
     "output_type": "stream",
     "text": [
      "leverage\n",
      "liquidity\n",
      "book_to_price_ratio\n",
      "operating_revenue_growth_rate\n",
      "net_asset_growth_rate\n",
      "PEG\n"
     ]
    }
   ],
   "source": [
    "for factor_i in factor_list:\n",
    "    print(factor_i)\n",
    "    price_pd = pd.concat([price_pd,factor_data[factor_i]],axis = 1)\n",
    "    \n",
    "    \n",
    "    # 重命名相应的列\n",
    "    price_pd = price_pd.rename(columns={'000001.XSHE':factor_i})"
   ]
  },
  {
   "cell_type": "code",
   "execution_count": 11,
   "metadata": {},
   "outputs": [],
   "source": [
    "# 截取后面有效的数据，前面的Nan数据删除\n",
    "factor_data_pd = price_pd.iloc[30:,:]\n",
    "\n",
    "# 对factor_data中的NA值进行处理\n",
    "factor_data_pd = factor_data_pd.fillna(0)"
   ]
  },
  {
   "cell_type": "code",
   "execution_count": 12,
   "metadata": {},
   "outputs": [
    {
     "data": {
      "text/html": [
       "<div>\n",
       "<style scoped>\n",
       "    .dataframe tbody tr th:only-of-type {\n",
       "        vertical-align: middle;\n",
       "    }\n",
       "\n",
       "    .dataframe tbody tr th {\n",
       "        vertical-align: top;\n",
       "    }\n",
       "\n",
       "    .dataframe thead th {\n",
       "        text-align: right;\n",
       "    }\n",
       "</style>\n",
       "<table border=\"1\" class=\"dataframe\">\n",
       "  <thead>\n",
       "    <tr style=\"text-align: right;\">\n",
       "      <th></th>\n",
       "      <th>price</th>\n",
       "      <th>volume</th>\n",
       "      <th>1d_yield</th>\n",
       "      <th>5d_yield</th>\n",
       "      <th>30d_yield</th>\n",
       "      <th>1d_volume_change</th>\n",
       "      <th>5d_volume_change</th>\n",
       "      <th>30d__volume_change</th>\n",
       "      <th>std</th>\n",
       "      <th>leverage</th>\n",
       "      <th>liquidity</th>\n",
       "      <th>book_to_price_ratio</th>\n",
       "      <th>operating_revenue_growth_rate</th>\n",
       "      <th>net_asset_growth_rate</th>\n",
       "      <th>PEG</th>\n",
       "    </tr>\n",
       "  </thead>\n",
       "  <tbody>\n",
       "    <tr>\n",
       "      <th>2025-01-21</th>\n",
       "      <td>4.020</td>\n",
       "      <td>127838496.0</td>\n",
       "      <td>1.001245</td>\n",
       "      <td>1.003495</td>\n",
       "      <td>0.966811</td>\n",
       "      <td>0.937738</td>\n",
       "      <td>0.540851</td>\n",
       "      <td>0.482994</td>\n",
       "      <td>0.096681</td>\n",
       "      <td>1.851702</td>\n",
       "      <td>-0.170828</td>\n",
       "      <td>2.681725</td>\n",
       "      <td>-0.121804</td>\n",
       "      <td>0.052825</td>\n",
       "      <td>0.0</td>\n",
       "    </tr>\n",
       "    <tr>\n",
       "      <th>2025-01-22</th>\n",
       "      <td>3.983</td>\n",
       "      <td>196344531.0</td>\n",
       "      <td>0.990796</td>\n",
       "      <td>1.000502</td>\n",
       "      <td>0.951278</td>\n",
       "      <td>1.535880</td>\n",
       "      <td>1.772404</td>\n",
       "      <td>0.524555</td>\n",
       "      <td>0.091438</td>\n",
       "      <td>1.855890</td>\n",
       "      <td>-0.173311</td>\n",
       "      <td>2.694540</td>\n",
       "      <td>-0.121804</td>\n",
       "      <td>0.052825</td>\n",
       "      <td>0.0</td>\n",
       "    </tr>\n",
       "    <tr>\n",
       "      <th>2025-01-23</th>\n",
       "      <td>3.991</td>\n",
       "      <td>186677880.0</td>\n",
       "      <td>1.002009</td>\n",
       "      <td>1.001757</td>\n",
       "      <td>0.954785</td>\n",
       "      <td>0.950767</td>\n",
       "      <td>1.079157</td>\n",
       "      <td>0.675302</td>\n",
       "      <td>0.084594</td>\n",
       "      <td>1.843232</td>\n",
       "      <td>-0.152568</td>\n",
       "      <td>2.680530</td>\n",
       "      <td>-0.121804</td>\n",
       "      <td>0.052825</td>\n",
       "      <td>0.0</td>\n",
       "    </tr>\n",
       "    <tr>\n",
       "      <th>2025-01-24</th>\n",
       "      <td>4.027</td>\n",
       "      <td>210284858.0</td>\n",
       "      <td>1.009020</td>\n",
       "      <td>1.006750</td>\n",
       "      <td>0.954265</td>\n",
       "      <td>1.126458</td>\n",
       "      <td>1.291107</td>\n",
       "      <td>0.660351</td>\n",
       "      <td>0.075423</td>\n",
       "      <td>1.847357</td>\n",
       "      <td>-0.177102</td>\n",
       "      <td>2.695121</td>\n",
       "      <td>-0.121804</td>\n",
       "      <td>0.052825</td>\n",
       "      <td>0.0</td>\n",
       "    </tr>\n",
       "    <tr>\n",
       "      <th>2025-01-27</th>\n",
       "      <td>4.006</td>\n",
       "      <td>301618459.0</td>\n",
       "      <td>0.994785</td>\n",
       "      <td>0.997758</td>\n",
       "      <td>0.972330</td>\n",
       "      <td>1.434333</td>\n",
       "      <td>2.212473</td>\n",
       "      <td>0.598814</td>\n",
       "      <td>0.064030</td>\n",
       "      <td>1.838796</td>\n",
       "      <td>-0.138959</td>\n",
       "      <td>2.698175</td>\n",
       "      <td>-0.121804</td>\n",
       "      <td>0.052825</td>\n",
       "      <td>0.0</td>\n",
       "    </tr>\n",
       "  </tbody>\n",
       "</table>\n",
       "</div>"
      ],
      "text/plain": [
       "            price       volume ...   net_asset_growth_rate  PEG\n",
       "2025-01-21  4.020  127838496.0 ...                0.052825  0.0\n",
       "2025-01-22  3.983  196344531.0 ...                0.052825  0.0\n",
       "2025-01-23  3.991  186677880.0 ...                0.052825  0.0\n",
       "2025-01-24  4.027  210284858.0 ...                0.052825  0.0\n",
       "2025-01-27  4.006  301618459.0 ...                0.052825  0.0\n",
       "\n",
       "[5 rows x 15 columns]"
      ]
     },
     "execution_count": 12,
     "metadata": {},
     "output_type": "execute_result"
    }
   ],
   "source": [
    "factor_data_pd.tail()"
   ]
  },
  {
   "cell_type": "markdown",
   "metadata": {},
   "source": [
    "## 2. 生成判断\n",
    "\n",
    "根据当前的日期，生成结果数据\n",
    "\n",
    "**结果判断依据**：未来一周是否上涨超过1%"
   ]
  },
  {
   "cell_type": "code",
   "execution_count": 13,
   "metadata": {},
   "outputs": [],
   "source": [
    "result_pd = pd.concat([price_pd['price'],price_pd['price'].shift(-10)],axis=1)\n",
    "result_pd.columns = ['price','future_price']\n",
    "\n",
    "result_pd['yield'] = result_pd['future_price']/result_pd['price'] -1\n",
    "\n",
    "result_pd['result'] = np.array(result_pd['yield'] > 0.01)"
   ]
  },
  {
   "cell_type": "code",
   "execution_count": 14,
   "metadata": {},
   "outputs": [],
   "source": [
    "# 要与factor_data_pd对齐数据\n",
    "\n",
    "result_pd = result_pd.loc[list(factor_data_pd.index)]"
   ]
  },
  {
   "cell_type": "markdown",
   "metadata": {},
   "source": [
    "## 3. 使用LightGBM\n"
   ]
  },
  {
   "cell_type": "code",
   "execution_count": 15,
   "metadata": {},
   "outputs": [],
   "source": [
    "# 需要保留最后一行数据，作为预测用\n",
    "\n",
    "X = factor_data_pd.iloc[:-5,2:]\n",
    "y = result_pd['result'][:-5]\n",
    "\n",
    "X_sample = factor_data_pd.iloc[-5:,2:]"
   ]
  },
  {
   "cell_type": "code",
   "execution_count": 16,
   "metadata": {},
   "outputs": [
    {
     "data": {
      "text/html": [
       "<div>\n",
       "<style scoped>\n",
       "    .dataframe tbody tr th:only-of-type {\n",
       "        vertical-align: middle;\n",
       "    }\n",
       "\n",
       "    .dataframe tbody tr th {\n",
       "        vertical-align: top;\n",
       "    }\n",
       "\n",
       "    .dataframe thead th {\n",
       "        text-align: right;\n",
       "    }\n",
       "</style>\n",
       "<table border=\"1\" class=\"dataframe\">\n",
       "  <thead>\n",
       "    <tr style=\"text-align: right;\">\n",
       "      <th></th>\n",
       "      <th>1d_yield</th>\n",
       "      <th>5d_yield</th>\n",
       "      <th>30d_yield</th>\n",
       "      <th>1d_volume_change</th>\n",
       "      <th>5d_volume_change</th>\n",
       "      <th>30d__volume_change</th>\n",
       "      <th>std</th>\n",
       "      <th>leverage</th>\n",
       "      <th>liquidity</th>\n",
       "      <th>book_to_price_ratio</th>\n",
       "      <th>operating_revenue_growth_rate</th>\n",
       "      <th>net_asset_growth_rate</th>\n",
       "      <th>PEG</th>\n",
       "    </tr>\n",
       "  </thead>\n",
       "  <tbody>\n",
       "    <tr>\n",
       "      <th>2025-01-21</th>\n",
       "      <td>1.001245</td>\n",
       "      <td>1.003495</td>\n",
       "      <td>0.966811</td>\n",
       "      <td>0.937738</td>\n",
       "      <td>0.540851</td>\n",
       "      <td>0.482994</td>\n",
       "      <td>0.096681</td>\n",
       "      <td>1.851702</td>\n",
       "      <td>-0.170828</td>\n",
       "      <td>2.681725</td>\n",
       "      <td>-0.121804</td>\n",
       "      <td>0.052825</td>\n",
       "      <td>0.0</td>\n",
       "    </tr>\n",
       "    <tr>\n",
       "      <th>2025-01-22</th>\n",
       "      <td>0.990796</td>\n",
       "      <td>1.000502</td>\n",
       "      <td>0.951278</td>\n",
       "      <td>1.535880</td>\n",
       "      <td>1.772404</td>\n",
       "      <td>0.524555</td>\n",
       "      <td>0.091438</td>\n",
       "      <td>1.855890</td>\n",
       "      <td>-0.173311</td>\n",
       "      <td>2.694540</td>\n",
       "      <td>-0.121804</td>\n",
       "      <td>0.052825</td>\n",
       "      <td>0.0</td>\n",
       "    </tr>\n",
       "    <tr>\n",
       "      <th>2025-01-23</th>\n",
       "      <td>1.002009</td>\n",
       "      <td>1.001757</td>\n",
       "      <td>0.954785</td>\n",
       "      <td>0.950767</td>\n",
       "      <td>1.079157</td>\n",
       "      <td>0.675302</td>\n",
       "      <td>0.084594</td>\n",
       "      <td>1.843232</td>\n",
       "      <td>-0.152568</td>\n",
       "      <td>2.680530</td>\n",
       "      <td>-0.121804</td>\n",
       "      <td>0.052825</td>\n",
       "      <td>0.0</td>\n",
       "    </tr>\n",
       "    <tr>\n",
       "      <th>2025-01-24</th>\n",
       "      <td>1.009020</td>\n",
       "      <td>1.006750</td>\n",
       "      <td>0.954265</td>\n",
       "      <td>1.126458</td>\n",
       "      <td>1.291107</td>\n",
       "      <td>0.660351</td>\n",
       "      <td>0.075423</td>\n",
       "      <td>1.847357</td>\n",
       "      <td>-0.177102</td>\n",
       "      <td>2.695121</td>\n",
       "      <td>-0.121804</td>\n",
       "      <td>0.052825</td>\n",
       "      <td>0.0</td>\n",
       "    </tr>\n",
       "    <tr>\n",
       "      <th>2025-01-27</th>\n",
       "      <td>0.994785</td>\n",
       "      <td>0.997758</td>\n",
       "      <td>0.972330</td>\n",
       "      <td>1.434333</td>\n",
       "      <td>2.212473</td>\n",
       "      <td>0.598814</td>\n",
       "      <td>0.064030</td>\n",
       "      <td>1.838796</td>\n",
       "      <td>-0.138959</td>\n",
       "      <td>2.698175</td>\n",
       "      <td>-0.121804</td>\n",
       "      <td>0.052825</td>\n",
       "      <td>0.0</td>\n",
       "    </tr>\n",
       "  </tbody>\n",
       "</table>\n",
       "</div>"
      ],
      "text/plain": [
       "            1d_yield  5d_yield ...   net_asset_growth_rate  PEG\n",
       "2025-01-21  1.001245  1.003495 ...                0.052825  0.0\n",
       "2025-01-22  0.990796  1.000502 ...                0.052825  0.0\n",
       "2025-01-23  1.002009  1.001757 ...                0.052825  0.0\n",
       "2025-01-24  1.009020  1.006750 ...                0.052825  0.0\n",
       "2025-01-27  0.994785  0.997758 ...                0.052825  0.0\n",
       "\n",
       "[5 rows x 13 columns]"
      ]
     },
     "execution_count": 16,
     "metadata": {},
     "output_type": "execute_result"
    }
   ],
   "source": [
    "X_sample"
   ]
  },
  {
   "cell_type": "code",
   "execution_count": 17,
   "metadata": {},
   "outputs": [],
   "source": [
    "# split the dataset into the training set and test set\n",
    "from sklearn.model_selection import train_test_split\n",
    "\n",
    "X_train, X_test, y_train, y_test = train_test_split(X, y, test_size = 0.3, random_state = 0)"
   ]
  },
  {
   "cell_type": "code",
   "execution_count": 18,
   "metadata": {},
   "outputs": [
    {
     "data": {
      "text/plain": [
       "LGBMClassifier(boosting_type='gbdt', class_weight=None, colsample_bytree=1.0,\n",
       "        importance_type='split', learning_rate=0.1, max_depth=-1,\n",
       "        min_child_samples=20, min_child_weight=0.001, min_split_gain=0.0,\n",
       "        n_estimators=100, n_jobs=-1, num_leaves=31, objective=None,\n",
       "        random_state=None, reg_alpha=0.0, reg_lambda=0.0, silent=True,\n",
       "        subsample=1.0, subsample_for_bin=200000, subsample_freq=0)"
      ]
     },
     "execution_count": 18,
     "metadata": {},
     "output_type": "execute_result"
    }
   ],
   "source": [
    "# build the lightgbm model\n",
    "import lightgbm as lgb\n",
    "clf = lgb.LGBMClassifier()\n",
    "clf.fit(X_train, y_train)"
   ]
  },
  {
   "cell_type": "code",
   "execution_count": 19,
   "metadata": {},
   "outputs": [
    {
     "name": "stderr",
     "output_type": "stream",
     "text": [
      "/opt/conda/lib/python3.6/site-packages/sklearn/preprocessing/label.py:151: DeprecationWarning: The truth value of an empty array is ambiguous. Returning False, but in future this will result in an error. Use `array.size > 0` to check that an array is not empty.\n",
      "  if diff:\n"
     ]
    }
   ],
   "source": [
    "# predict the results\n",
    "y_pred=clf.predict(X_test)"
   ]
  },
  {
   "cell_type": "code",
   "execution_count": 20,
   "metadata": {},
   "outputs": [
    {
     "name": "stdout",
     "output_type": "stream",
     "text": [
      "LightGBM Model accuracy score: 0.7886\n"
     ]
    }
   ],
   "source": [
    "# view accuracy\n",
    "from sklearn.metrics import accuracy_score\n",
    "accuracy=accuracy_score(y_pred, y_test)\n",
    "print('LightGBM Model accuracy score: {0:0.4f}'.format(accuracy_score(y_test, y_pred)))"
   ]
  },
  {
   "cell_type": "code",
   "execution_count": null,
   "metadata": {},
   "outputs": [],
   "source": []
  },
  {
   "cell_type": "code",
   "execution_count": 21,
   "metadata": {},
   "outputs": [
    {
     "name": "stdout",
     "output_type": "stream",
     "text": [
      "Training-set accuracy score: 1.0000\n"
     ]
    },
    {
     "name": "stderr",
     "output_type": "stream",
     "text": [
      "/opt/conda/lib/python3.6/site-packages/sklearn/preprocessing/label.py:151: DeprecationWarning: The truth value of an empty array is ambiguous. Returning False, but in future this will result in an error. Use `array.size > 0` to check that an array is not empty.\n",
      "  if diff:\n"
     ]
    }
   ],
   "source": [
    "y_pred_train = clf.predict(X_train)\n",
    "print('Training-set accuracy score: {0:0.4f}'. format(accuracy_score(y_train, y_pred_train)))\n"
   ]
  },
  {
   "cell_type": "code",
   "execution_count": 22,
   "metadata": {},
   "outputs": [
    {
     "name": "stdout",
     "output_type": "stream",
     "text": [
      "Training set score: 1.0000\n",
      "Test set score: 0.7886\n"
     ]
    },
    {
     "name": "stderr",
     "output_type": "stream",
     "text": [
      "/opt/conda/lib/python3.6/site-packages/sklearn/preprocessing/label.py:151: DeprecationWarning: The truth value of an empty array is ambiguous. Returning False, but in future this will result in an error. Use `array.size > 0` to check that an array is not empty.\n",
      "  if diff:\n",
      "/opt/conda/lib/python3.6/site-packages/sklearn/preprocessing/label.py:151: DeprecationWarning: The truth value of an empty array is ambiguous. Returning False, but in future this will result in an error. Use `array.size > 0` to check that an array is not empty.\n",
      "  if diff:\n"
     ]
    }
   ],
   "source": [
    "# print the scores on training and test set\n",
    "\n",
    "print('Training set score: {:.4f}'.format(clf.score(X_train, y_train)))\n",
    "\n",
    "print('Test set score: {:.4f}'.format(clf.score(X_test, y_test)))"
   ]
  },
  {
   "cell_type": "code",
   "execution_count": 23,
   "metadata": {},
   "outputs": [
    {
     "name": "stdout",
     "output_type": "stream",
     "text": [
      "Confusion matrix\n",
      "\n",
      " [[240 32]\n",
      " [61 107]]\n",
      "\n",
      "True Positives(TP) =  240\n",
      "\n",
      "True Negatives(TN) =  107\n",
      "\n",
      "False Positives(FP) =  32\n",
      "\n",
      "False Negatives(FN) =  61\n"
     ]
    }
   ],
   "source": [
    "# view confusion-matrix\n",
    "# Print the Confusion Matrix and slice it into four pieces\n",
    "\n",
    "from sklearn.metrics import confusion_matrix\n",
    "cm = confusion_matrix(y_test, y_pred)\n",
    "print('Confusion matrix\\n\\n', cm)\n",
    "print('\\nTrue Positives(TP) = ', cm[0,0])\n",
    "print('\\nTrue Negatives(TN) = ', cm[1,1])\n",
    "print('\\nFalse Positives(FP) = ', cm[0,1])\n",
    "print('\\nFalse Negatives(FN) = ', cm[1,0])"
   ]
  },
  {
   "cell_type": "code",
   "execution_count": 24,
   "metadata": {},
   "outputs": [
    {
     "data": {
      "text/plain": [
       "<matplotlib.axes._subplots.AxesSubplot at 0x7f0541b425f8>"
      ]
     },
     "execution_count": 24,
     "metadata": {},
     "output_type": "execute_result"
    },
    {
     "data": {
      "image/png": "[encoded data removed]",
      "text/plain": [
       "<Figure size 1296x720 with 2 Axes>"
      ]
     },
     "metadata": {
      "needs_background": "light"
     },
     "output_type": "display_data"
    }
   ],
   "source": [
    "# visualize confusion matrix with seaborn heatmap\n",
    "\n",
    "cm_matrix = pd.DataFrame(data=cm, columns=['Actual Positive:1', 'Actual Negative:0'], \n",
    "                                 index=['Predict Positive:1', 'Predict Negative:0'])\n",
    "\n",
    "sns.heatmap(cm_matrix, annot=True, fmt='d', cmap='YlGnBu')"
   ]
  },
  {
   "cell_type": "code",
   "execution_count": 25,
   "metadata": {},
   "outputs": [
    {
     "name": "stdout",
     "output_type": "stream",
     "text": [
      "             precision    recall  f1-score   support\n",
      "\n",
      "      False       0.80      0.88      0.84       272\n",
      "       True       0.77      0.64      0.70       168\n",
      "\n",
      "avg / total       0.79      0.79      0.78       440\n",
      "\n"
     ]
    }
   ],
   "source": [
    "from sklearn.metrics import classification_report\n",
    "print(classification_report(y_test, y_pred))"
   ]
  },
  {
   "cell_type": "markdown",
   "metadata": {},
   "source": [
    "## 4. 进行预测"
   ]
  },
  {
   "cell_type": "code",
   "execution_count": 26,
   "metadata": {},
   "outputs": [
    {
     "name": "stderr",
     "output_type": "stream",
     "text": [
      "/opt/conda/lib/python3.6/site-packages/sklearn/preprocessing/label.py:151: DeprecationWarning: The truth value of an empty array is ambiguous. Returning False, but in future this will result in an error. Use `array.size > 0` to check that an array is not empty.\n",
      "  if diff:\n"
     ]
    }
   ],
   "source": [
    "y_sample = clf.predict(X_sample)"
   ]
  },
  {
   "cell_type": "code",
   "execution_count": 27,
   "metadata": {},
   "outputs": [
    {
     "data": {
      "text/plain": [
       "array([False, False, False, False, False])"
      ]
     },
     "execution_count": 27,
     "metadata": {},
     "output_type": "execute_result"
    }
   ],
   "source": [
    "y_sample"
   ]
  },
  {
   "cell_type": "code",
   "execution_count": 28,
   "metadata": {},
   "outputs": [
    {
     "data": {
      "text/plain": [
       "DatetimeIndex(['2025-01-21', '2025-01-22', '2025-01-23', '2025-01-24',\n",
       "               '2025-01-27'],\n",
       "              dtype='datetime64[ns]', freq=None)"
      ]
     },
     "execution_count": 28,
     "metadata": {},
     "output_type": "execute_result"
    }
   ],
   "source": [
    "X_sample.index"
   ]
  },
  {
   "cell_type": "code",
   "execution_count": null,
   "metadata": {},
   "outputs": [],
   "source": []
  },
  {
   "cell_type": "code",
   "execution_count": null,
   "metadata": {},
   "outputs": [],
   "source": []
  },
  {
   "cell_type": "code",
   "execution_count": null,
   "metadata": {},
   "outputs": [],
   "source": []
  }
 ],
 "metadata": {
  "kernelspec": {
   "display_name": "Python 3",
   "language": "python",
   "name": "python3"
  },
  "language_info": {
   "codemirror_mode": {
    "name": "ipython",
    "version": 3
   },
   "file_extension": ".py",
   "mimetype": "text/x-python",
   "name": "python",
   "nbconvert_exporter": "python",
   "pygments_lexer": "ipython3",
   "version": "3.6.7"
  },
  "toc": {
   "base_numbering": 1,
   "nav_menu": {},
   "number_sections": false,
   "sideBar": true,
   "skip_h1_title": false,
   "title_cell": "MarkDown菜单",
   "title_sidebar": "Contents",
   "toc_cell": false,
   "toc_position": {},
   "toc_section_display": true,
   "toc_window_display": false
  }
 },
 "nbformat": 4,
 "nbformat_minor": 2
}
